{
 "cells": [
  {
   "cell_type": "code",
   "execution_count": 153,
   "metadata": {
    "collapsed": true
   },
   "outputs": [],
   "source": [
    "import pandas as pd\n",
    "import matplotlib.pyplot as plt\n",
    "%matplotlib inline"
   ]
  },
  {
   "cell_type": "code",
   "execution_count": 154,
   "metadata": {},
   "outputs": [
    {
     "data": {
      "text/html": [
       "<div>\n",
       "<style>\n",
       "    .dataframe thead tr:only-child th {\n",
       "        text-align: right;\n",
       "    }\n",
       "\n",
       "    .dataframe thead th {\n",
       "        text-align: left;\n",
       "    }\n",
       "\n",
       "    .dataframe tbody tr th {\n",
       "        vertical-align: top;\n",
       "    }\n",
       "</style>\n",
       "<table border=\"1\" class=\"dataframe\">\n",
       "  <thead>\n",
       "    <tr style=\"text-align: right;\">\n",
       "      <th></th>\n",
       "      <th>Boro Desc</th>\n",
       "      <th>Boro Id</th>\n",
       "      <th>CCRB Received Year</th>\n",
       "      <th>DateStamp</th>\n",
       "      <th>Number of Records</th>\n",
       "      <th>Uniq Id</th>\n",
       "    </tr>\n",
       "  </thead>\n",
       "  <tbody>\n",
       "    <tr>\n",
       "      <th>0</th>\n",
       "      <td>Bronx</td>\n",
       "      <td>3</td>\n",
       "      <td>2006</td>\n",
       "      <td>5/12/17</td>\n",
       "      <td>1</td>\n",
       "      <td>16</td>\n",
       "    </tr>\n",
       "    <tr>\n",
       "      <th>1</th>\n",
       "      <td>Bronx</td>\n",
       "      <td>3</td>\n",
       "      <td>2006</td>\n",
       "      <td>5/12/17</td>\n",
       "      <td>1</td>\n",
       "      <td>19</td>\n",
       "    </tr>\n",
       "    <tr>\n",
       "      <th>2</th>\n",
       "      <td>Bronx</td>\n",
       "      <td>3</td>\n",
       "      <td>2006</td>\n",
       "      <td>5/12/17</td>\n",
       "      <td>1</td>\n",
       "      <td>20</td>\n",
       "    </tr>\n",
       "    <tr>\n",
       "      <th>3</th>\n",
       "      <td>Bronx</td>\n",
       "      <td>3</td>\n",
       "      <td>2006</td>\n",
       "      <td>5/12/17</td>\n",
       "      <td>1</td>\n",
       "      <td>23</td>\n",
       "    </tr>\n",
       "    <tr>\n",
       "      <th>4</th>\n",
       "      <td>Bronx</td>\n",
       "      <td>3</td>\n",
       "      <td>2006</td>\n",
       "      <td>5/12/17</td>\n",
       "      <td>1</td>\n",
       "      <td>31</td>\n",
       "    </tr>\n",
       "  </tbody>\n",
       "</table>\n",
       "</div>"
      ],
      "text/plain": [
       "  Boro Desc  Boro Id  CCRB Received Year DateStamp  Number of Records  Uniq Id\n",
       "0     Bronx        3                2006   5/12/17                  1       16\n",
       "1     Bronx        3                2006   5/12/17                  1       19\n",
       "2     Bronx        3                2006   5/12/17                  1       20\n",
       "3     Bronx        3                2006   5/12/17                  1       23\n",
       "4     Bronx        3                2006   5/12/17                  1       31"
      ]
     },
     "execution_count": 154,
     "metadata": {},
     "output_type": "execute_result"
    }
   ],
   "source": [
    "df = pd.read_csv('Legend_data.csv')\n",
    "df.head()"
   ]
  },
  {
   "cell_type": "code",
   "execution_count": 155,
   "metadata": {},
   "outputs": [
    {
     "data": {
      "text/plain": [
       "Brooklyn         23361\n",
       "Manhattan        16070\n",
       "Bronx            15647\n",
       "Queens           10674\n",
       "Staten Island     2808\n",
       "Name: Boro Desc, dtype: int64"
      ]
     },
     "execution_count": 155,
     "metadata": {},
     "output_type": "execute_result"
    }
   ],
   "source": [
    "df['Boro Desc'].value_counts()"
   ]
  },
  {
   "cell_type": "code",
   "execution_count": 156,
   "metadata": {},
   "outputs": [
    {
     "data": {
      "text/plain": [
       "2006    7637\n",
       "2009    7630\n",
       "2007    7508\n",
       "2008    7361\n",
       "2010    6434\n",
       "2011    5940\n",
       "2012    5709\n",
       "2013    5358\n",
       "2014    4733\n",
       "2015    4420\n",
       "2016    4232\n",
       "2017    1598\n",
       "Name: CCRB Received Year, dtype: int64"
      ]
     },
     "execution_count": 156,
     "metadata": {},
     "output_type": "execute_result"
    }
   ],
   "source": [
    "df['CCRB Received Year'].value_counts()"
   ]
  },
  {
   "cell_type": "code",
   "execution_count": 157,
   "metadata": {},
   "outputs": [
    {
     "data": {
      "text/plain": [
       "(2739, 6)"
      ]
     },
     "execution_count": 157,
     "metadata": {},
     "output_type": "execute_result"
    }
   ],
   "source": [
    "df[(df['Boro Desc']=='Brooklyn') & (df['CCRB Received Year']==2006)].shape"
   ]
  },
  {
   "cell_type": "code",
   "execution_count": 158,
   "metadata": {},
   "outputs": [
    {
     "data": {
      "text/plain": [
       "(2607, 6)"
      ]
     },
     "execution_count": 158,
     "metadata": {},
     "output_type": "execute_result"
    }
   ],
   "source": [
    "df[(df['Boro Desc']=='Brooklyn') & (df['CCRB Received Year']==2007)].shape"
   ]
  },
  {
   "cell_type": "code",
   "execution_count": 136,
   "metadata": {
    "collapsed": true
   },
   "outputs": [],
   "source": [
    "#df.groupby(\"CCRB Received Year\")['networthusbillion'].sum().sort_values()"
   ]
  },
  {
   "cell_type": "code",
   "execution_count": 159,
   "metadata": {},
   "outputs": [
    {
     "data": {
      "text/html": [
       "<div>\n",
       "<style>\n",
       "    .dataframe thead tr:only-child th {\n",
       "        text-align: right;\n",
       "    }\n",
       "\n",
       "    .dataframe thead th {\n",
       "        text-align: left;\n",
       "    }\n",
       "\n",
       "    .dataframe tbody tr th {\n",
       "        vertical-align: top;\n",
       "    }\n",
       "</style>\n",
       "<table border=\"1\" class=\"dataframe\">\n",
       "  <thead>\n",
       "    <tr style=\"text-align: right;\">\n",
       "      <th></th>\n",
       "      <th>Boro Desc</th>\n",
       "      <th>Boro Id</th>\n",
       "      <th>CCRB Received Year</th>\n",
       "      <th>DateStamp</th>\n",
       "      <th>Number of Records</th>\n",
       "      <th>Uniq Id</th>\n",
       "    </tr>\n",
       "  </thead>\n",
       "  <tbody>\n",
       "    <tr>\n",
       "      <th>15647</th>\n",
       "      <td>Brooklyn</td>\n",
       "      <td>4</td>\n",
       "      <td>2006</td>\n",
       "      <td>5/12/17</td>\n",
       "      <td>1</td>\n",
       "      <td>1</td>\n",
       "    </tr>\n",
       "    <tr>\n",
       "      <th>15648</th>\n",
       "      <td>Brooklyn</td>\n",
       "      <td>4</td>\n",
       "      <td>2006</td>\n",
       "      <td>5/12/17</td>\n",
       "      <td>1</td>\n",
       "      <td>3</td>\n",
       "    </tr>\n",
       "    <tr>\n",
       "      <th>15649</th>\n",
       "      <td>Brooklyn</td>\n",
       "      <td>4</td>\n",
       "      <td>2006</td>\n",
       "      <td>5/12/17</td>\n",
       "      <td>1</td>\n",
       "      <td>5</td>\n",
       "    </tr>\n",
       "    <tr>\n",
       "      <th>15650</th>\n",
       "      <td>Brooklyn</td>\n",
       "      <td>4</td>\n",
       "      <td>2006</td>\n",
       "      <td>5/12/17</td>\n",
       "      <td>1</td>\n",
       "      <td>7</td>\n",
       "    </tr>\n",
       "    <tr>\n",
       "      <th>15651</th>\n",
       "      <td>Brooklyn</td>\n",
       "      <td>4</td>\n",
       "      <td>2006</td>\n",
       "      <td>5/12/17</td>\n",
       "      <td>1</td>\n",
       "      <td>8</td>\n",
       "    </tr>\n",
       "  </tbody>\n",
       "</table>\n",
       "</div>"
      ],
      "text/plain": [
       "      Boro Desc  Boro Id  CCRB Received Year DateStamp  Number of Records  \\\n",
       "15647  Brooklyn        4                2006   5/12/17                  1   \n",
       "15648  Brooklyn        4                2006   5/12/17                  1   \n",
       "15649  Brooklyn        4                2006   5/12/17                  1   \n",
       "15650  Brooklyn        4                2006   5/12/17                  1   \n",
       "15651  Brooklyn        4                2006   5/12/17                  1   \n",
       "\n",
       "       Uniq Id  \n",
       "15647        1  \n",
       "15648        3  \n",
       "15649        5  \n",
       "15650        7  \n",
       "15651        8  "
      ]
     },
     "execution_count": 159,
     "metadata": {},
     "output_type": "execute_result"
    }
   ],
   "source": [
    "df[df['Boro Desc'] == 'Brooklyn'].head()"
   ]
  },
  {
   "cell_type": "code",
   "execution_count": 160,
   "metadata": {},
   "outputs": [
    {
     "data": {
      "text/html": [
       "<div>\n",
       "<style>\n",
       "    .dataframe thead tr:only-child th {\n",
       "        text-align: right;\n",
       "    }\n",
       "\n",
       "    .dataframe thead th {\n",
       "        text-align: left;\n",
       "    }\n",
       "\n",
       "    .dataframe tbody tr th {\n",
       "        vertical-align: top;\n",
       "    }\n",
       "</style>\n",
       "<table border=\"1\" class=\"dataframe\">\n",
       "  <thead>\n",
       "    <tr style=\"text-align: right;\">\n",
       "      <th></th>\n",
       "      <th>Boro Desc</th>\n",
       "      <th>CCRB Received Year</th>\n",
       "      <th>Number of Records</th>\n",
       "    </tr>\n",
       "  </thead>\n",
       "  <tbody>\n",
       "    <tr>\n",
       "      <th>0</th>\n",
       "      <td>Brooklyn</td>\n",
       "      <td>2006</td>\n",
       "      <td>2739</td>\n",
       "    </tr>\n",
       "    <tr>\n",
       "      <th>1</th>\n",
       "      <td>Brooklyn</td>\n",
       "      <td>2007</td>\n",
       "      <td>2607</td>\n",
       "    </tr>\n",
       "    <tr>\n",
       "      <th>2</th>\n",
       "      <td>Brooklyn</td>\n",
       "      <td>2008</td>\n",
       "      <td>2462</td>\n",
       "    </tr>\n",
       "    <tr>\n",
       "      <th>3</th>\n",
       "      <td>Brooklyn</td>\n",
       "      <td>2009</td>\n",
       "      <td>2594</td>\n",
       "    </tr>\n",
       "    <tr>\n",
       "      <th>4</th>\n",
       "      <td>Brooklyn</td>\n",
       "      <td>2010</td>\n",
       "      <td>2227</td>\n",
       "    </tr>\n",
       "  </tbody>\n",
       "</table>\n",
       "</div>"
      ],
      "text/plain": [
       "  Boro Desc  CCRB Received Year  Number of Records\n",
       "0  Brooklyn                2006               2739\n",
       "1  Brooklyn                2007               2607\n",
       "2  Brooklyn                2008               2462\n",
       "3  Brooklyn                2009               2594\n",
       "4  Brooklyn                2010               2227"
      ]
     },
     "execution_count": 160,
     "metadata": {},
     "output_type": "execute_result"
    }
   ],
   "source": [
    "df_Boro = pd.read_excel('Boro Desc.xlsx')\n",
    "df_Boro.head()"
   ]
  },
  {
   "cell_type": "code",
   "execution_count": 162,
   "metadata": {},
   "outputs": [
    {
     "data": {
      "image/png": "[encoded data removed]",
      "text/plain": [
       "<matplotlib.figure.Figure at 0x109b2feb8>"
      ]
     },
     "metadata": {},
     "output_type": "display_data"
    }
   ],
   "source": [
    "fig, ax = plt.subplots()\n",
    "colors = {\n",
    "    'Brooklyn':'yellow',\n",
    "    'Manhattan':'green',\n",
    "    'Bronx':'blue',\n",
    "    'Queens':'red',\n",
    "    'Staten Island':'purple'\n",
    "}\n",
    "for Boro_Desc, group_df in df_Boro.groupby('Boro Desc'):\n",
    "    line_color = colors[Boro_Desc]\n",
    "    group_df.plot(x='CCRB Received Year', y='Number of Records', ax=ax, label=Boro_Desc, color=line_color)\n",
    "plt.savefig('complaints_boro.pdf')"
   ]
  },
  {
   "cell_type": "code",
   "execution_count": 169,
   "metadata": {},
   "outputs": [
    {
     "data": {
      "text/html": [
       "<div>\n",
       "<style>\n",
       "    .dataframe thead tr:only-child th {\n",
       "        text-align: right;\n",
       "    }\n",
       "\n",
       "    .dataframe thead th {\n",
       "        text-align: left;\n",
       "    }\n",
       "\n",
       "    .dataframe tbody tr th {\n",
       "        vertical-align: top;\n",
       "    }\n",
       "</style>\n",
       "<table border=\"1\" class=\"dataframe\">\n",
       "  <thead>\n",
       "    <tr style=\"text-align: right;\">\n",
       "      <th></th>\n",
       "      <th>Close Year</th>\n",
       "      <th>Date Stamp</th>\n",
       "      <th>Full Investigation</th>\n",
       "      <th>Number of Records (copy)</th>\n",
       "      <th>Number of Records</th>\n",
       "      <th>Uniq Id</th>\n",
       "    </tr>\n",
       "  </thead>\n",
       "  <tbody>\n",
       "    <tr>\n",
       "      <th>0</th>\n",
       "      <td>2006</td>\n",
       "      <td>5/12/17</td>\n",
       "      <td>Not Fully Investigated</td>\n",
       "      <td>1</td>\n",
       "      <td>1</td>\n",
       "      <td>17</td>\n",
       "    </tr>\n",
       "    <tr>\n",
       "      <th>1</th>\n",
       "      <td>2006</td>\n",
       "      <td>5/12/17</td>\n",
       "      <td>Not Fully Investigated</td>\n",
       "      <td>1</td>\n",
       "      <td>1</td>\n",
       "      <td>26</td>\n",
       "    </tr>\n",
       "    <tr>\n",
       "      <th>2</th>\n",
       "      <td>2006</td>\n",
       "      <td>5/12/17</td>\n",
       "      <td>Not Fully Investigated</td>\n",
       "      <td>1</td>\n",
       "      <td>1</td>\n",
       "      <td>42</td>\n",
       "    </tr>\n",
       "    <tr>\n",
       "      <th>3</th>\n",
       "      <td>2006</td>\n",
       "      <td>5/12/17</td>\n",
       "      <td>Not Fully Investigated</td>\n",
       "      <td>1</td>\n",
       "      <td>1</td>\n",
       "      <td>51</td>\n",
       "    </tr>\n",
       "    <tr>\n",
       "      <th>4</th>\n",
       "      <td>2006</td>\n",
       "      <td>5/12/17</td>\n",
       "      <td>Not Fully Investigated</td>\n",
       "      <td>1</td>\n",
       "      <td>1</td>\n",
       "      <td>59</td>\n",
       "    </tr>\n",
       "  </tbody>\n",
       "</table>\n",
       "</div>"
      ],
      "text/plain": [
       "   Close Year Date Stamp      Full Investigation  Number of Records (copy)  \\\n",
       "0        2006    5/12/17  Not Fully Investigated                         1   \n",
       "1        2006    5/12/17  Not Fully Investigated                         1   \n",
       "2        2006    5/12/17  Not Fully Investigated                         1   \n",
       "3        2006    5/12/17  Not Fully Investigated                         1   \n",
       "4        2006    5/12/17  Not Fully Investigated                         1   \n",
       "\n",
       "   Number of Records  Uniq Id  \n",
       "0                  1       17  \n",
       "1                  1       26  \n",
       "2                  1       42  \n",
       "3                  1       51  \n",
       "4                  1       59  "
      ]
     },
     "execution_count": 169,
     "metadata": {},
     "output_type": "execute_result"
    }
   ],
   "source": [
    "df_in = pd.read_csv('investigated.csv')\n",
    "df_in.head()"
   ]
  },
  {
   "cell_type": "code",
   "execution_count": 170,
   "metadata": {},
   "outputs": [
    {
     "data": {
      "text/plain": [
       "Not Fully Investigated    47302\n",
       "Fully Investigated        23974\n",
       "Name: Full Investigation, dtype: int64"
      ]
     },
     "execution_count": 170,
     "metadata": {},
     "output_type": "execute_result"
    }
   ],
   "source": [
    "df_in['Full Investigation'].value_counts()"
   ]
  },
  {
   "cell_type": "code",
   "execution_count": 171,
   "metadata": {},
   "outputs": [
    {
     "data": {
      "text/plain": [
       "(4748, 6)"
      ]
     },
     "execution_count": 171,
     "metadata": {},
     "output_type": "execute_result"
    }
   ],
   "source": [
    "df_in[(df_in['Full Investigation']=='Not Fully Investigated') & (df_in['Close Year']==2006)].shape"
   ]
  },
  {
   "cell_type": "code",
   "execution_count": 172,
   "metadata": {},
   "outputs": [
    {
     "data": {
      "text/plain": [
       "(5144, 6)"
      ]
     },
     "execution_count": 172,
     "metadata": {},
     "output_type": "execute_result"
    }
   ],
   "source": [
    "df_in[(df_in['Full Investigation']=='Not Fully Investigated') & (df_in['Close Year']==2007)].shape"
   ]
  },
  {
   "cell_type": "code",
   "execution_count": 173,
   "metadata": {},
   "outputs": [
    {
     "data": {
      "text/html": [
       "<div>\n",
       "<style>\n",
       "    .dataframe thead tr:only-child th {\n",
       "        text-align: right;\n",
       "    }\n",
       "\n",
       "    .dataframe thead th {\n",
       "        text-align: left;\n",
       "    }\n",
       "\n",
       "    .dataframe tbody tr th {\n",
       "        vertical-align: top;\n",
       "    }\n",
       "</style>\n",
       "<table border=\"1\" class=\"dataframe\">\n",
       "  <thead>\n",
       "    <tr style=\"text-align: right;\">\n",
       "      <th></th>\n",
       "      <th>Close Year</th>\n",
       "      <th>Full Investigation</th>\n",
       "      <th>Number of Records</th>\n",
       "    </tr>\n",
       "  </thead>\n",
       "  <tbody>\n",
       "    <tr>\n",
       "      <th>0</th>\n",
       "      <td>2006</td>\n",
       "      <td>Not Fully Investigated</td>\n",
       "      <td>4748</td>\n",
       "    </tr>\n",
       "    <tr>\n",
       "      <th>1</th>\n",
       "      <td>2007</td>\n",
       "      <td>Not Fully Investigated</td>\n",
       "      <td>5144</td>\n",
       "    </tr>\n",
       "    <tr>\n",
       "      <th>2</th>\n",
       "      <td>2008</td>\n",
       "      <td>Not Fully Investigated</td>\n",
       "      <td>4581</td>\n",
       "    </tr>\n",
       "    <tr>\n",
       "      <th>3</th>\n",
       "      <td>2009</td>\n",
       "      <td>Not Fully Investigated</td>\n",
       "      <td>5599</td>\n",
       "    </tr>\n",
       "    <tr>\n",
       "      <th>4</th>\n",
       "      <td>2010</td>\n",
       "      <td>Not Fully Investigated</td>\n",
       "      <td>4484</td>\n",
       "    </tr>\n",
       "  </tbody>\n",
       "</table>\n",
       "</div>"
      ],
      "text/plain": [
       "   Close Year      Full Investigation  Number of Records\n",
       "0        2006  Not Fully Investigated               4748\n",
       "1        2007  Not Fully Investigated               5144\n",
       "2        2008  Not Fully Investigated               4581\n",
       "3        2009  Not Fully Investigated               5599\n",
       "4        2010  Not Fully Investigated               4484"
      ]
     },
     "execution_count": 173,
     "metadata": {},
     "output_type": "execute_result"
    }
   ],
   "source": [
    "df_investigated = pd.read_excel('Fully_Investigated.xlsx')\n",
    "df_investigated.head()"
   ]
  },
  {
   "cell_type": "code",
   "execution_count": 177,
   "metadata": {},
   "outputs": [
    {
     "data": {
      "image/png": "[encoded data removed]",
      "text/plain": [
       "<matplotlib.figure.Figure at 0x110bff438>"
      ]
     },
     "metadata": {},
     "output_type": "display_data"
    }
   ],
   "source": [
    "fig, ax = plt.subplots()\n",
    "colors = {\n",
    "    'Fully Investigated':'lightblue',\n",
    "    'Not Fully Investigated':'pink'\n",
    "}\n",
    "for Fully_Investigated, group_df in df_investigated.groupby('Full Investigation'):\n",
    "    line_color = colors[Fully_Investigated]\n",
    "    group_df.plot(x='Close Year', y='Number of Records', ax=ax, label=Fully_Investigated, color=line_color)"
   ]
  },
  {
   "cell_type": "code",
   "execution_count": 179,
   "metadata": {},
   "outputs": [
    {
     "data": {
      "text/html": [
       "<div>\n",
       "<style>\n",
       "    .dataframe thead tr:only-child th {\n",
       "        text-align: right;\n",
       "    }\n",
       "\n",
       "    .dataframe thead th {\n",
       "        text-align: left;\n",
       "    }\n",
       "\n",
       "    .dataframe tbody tr th {\n",
       "        vertical-align: top;\n",
       "    }\n",
       "</style>\n",
       "<table border=\"1\" class=\"dataframe\">\n",
       "  <thead>\n",
       "    <tr style=\"text-align: right;\">\n",
       "      <th></th>\n",
       "      <th>CCRB Received Year</th>\n",
       "      <th>Contact Reason Desc (condensed)</th>\n",
       "      <th>Contact Reason Desc</th>\n",
       "      <th>Date Stamp</th>\n",
       "      <th>Number of Records (copy)</th>\n",
       "      <th>Number of Records</th>\n",
       "      <th>Uniq Id</th>\n",
       "    </tr>\n",
       "  </thead>\n",
       "  <tbody>\n",
       "    <tr>\n",
       "      <th>0</th>\n",
       "      <td>2006</td>\n",
       "      <td>Other</td>\n",
       "      <td>NaN</td>\n",
       "      <td>5/12/17</td>\n",
       "      <td>1</td>\n",
       "      <td>1</td>\n",
       "      <td>35</td>\n",
       "    </tr>\n",
       "    <tr>\n",
       "      <th>1</th>\n",
       "      <td>2006</td>\n",
       "      <td>Other</td>\n",
       "      <td>NaN</td>\n",
       "      <td>5/12/17</td>\n",
       "      <td>1</td>\n",
       "      <td>1</td>\n",
       "      <td>75</td>\n",
       "    </tr>\n",
       "    <tr>\n",
       "      <th>2</th>\n",
       "      <td>2006</td>\n",
       "      <td>Other</td>\n",
       "      <td>NaN</td>\n",
       "      <td>5/12/17</td>\n",
       "      <td>1</td>\n",
       "      <td>1</td>\n",
       "      <td>230</td>\n",
       "    </tr>\n",
       "    <tr>\n",
       "      <th>3</th>\n",
       "      <td>2006</td>\n",
       "      <td>Other</td>\n",
       "      <td>NaN</td>\n",
       "      <td>5/12/17</td>\n",
       "      <td>1</td>\n",
       "      <td>1</td>\n",
       "      <td>278</td>\n",
       "    </tr>\n",
       "    <tr>\n",
       "      <th>4</th>\n",
       "      <td>2006</td>\n",
       "      <td>Other</td>\n",
       "      <td>NaN</td>\n",
       "      <td>5/12/17</td>\n",
       "      <td>1</td>\n",
       "      <td>1</td>\n",
       "      <td>723</td>\n",
       "    </tr>\n",
       "  </tbody>\n",
       "</table>\n",
       "</div>"
      ],
      "text/plain": [
       "   CCRB Received Year Contact Reason Desc (condensed) Contact Reason Desc  \\\n",
       "0                2006                           Other                 NaN   \n",
       "1                2006                           Other                 NaN   \n",
       "2                2006                           Other                 NaN   \n",
       "3                2006                           Other                 NaN   \n",
       "4                2006                           Other                 NaN   \n",
       "\n",
       "  Date Stamp  Number of Records (copy)  Number of Records  Uniq Id  \n",
       "0    5/12/17                         1                  1       35  \n",
       "1    5/12/17                         1                  1       75  \n",
       "2    5/12/17                         1                  1      230  \n",
       "3    5/12/17                         1                  1      278  \n",
       "4    5/12/17                         1                  1      723  "
      ]
     },
     "execution_count": 179,
     "metadata": {},
     "output_type": "execute_result"
    }
   ],
   "source": [
    "df_re = pd.read_csv('complaint_reason.csv')\n",
    "df_re.head()"
   ]
  },
  {
   "cell_type": "code",
   "execution_count": 180,
   "metadata": {},
   "outputs": [
    {
     "data": {
      "text/plain": [
       "PD Suspected Crime                                   26756\n",
       "Other                                                16618\n",
       "PD Responds to Reported Crime                         9152\n",
       "PD Suspected Violation                                6580\n",
       "C/V Contacted PD                                      3258\n",
       "PD Executed Warrant                                   2807\n",
       "C/V at PCT for Property, Information or Complaint     1515\n",
       "C/V Intervened Due to Incident                        1310\n",
       "EDP Aided Case                                         721\n",
       "Parade or Special Event                                256\n",
       "Name: Contact Reason Desc (condensed), dtype: int64"
      ]
     },
     "execution_count": 180,
     "metadata": {},
     "output_type": "execute_result"
    }
   ],
   "source": [
    "df_re['Contact Reason Desc (condensed)'].value_counts()"
   ]
  },
  {
   "cell_type": "code",
   "execution_count": 182,
   "metadata": {},
   "outputs": [
    {
     "data": {
      "text/plain": [
       "(2901, 7)"
      ]
     },
     "execution_count": 182,
     "metadata": {},
     "output_type": "execute_result"
    }
   ],
   "source": [
    "df_re[(df_re['Contact Reason Desc (condensed)']=='PD Suspected Crime') & (df_re['CCRB Received Year']==2006)].shape"
   ]
  },
  {
   "cell_type": "code",
   "execution_count": 183,
   "metadata": {},
   "outputs": [
    {
     "data": {
      "text/html": [
       "<div>\n",
       "<style>\n",
       "    .dataframe thead tr:only-child th {\n",
       "        text-align: right;\n",
       "    }\n",
       "\n",
       "    .dataframe thead th {\n",
       "        text-align: left;\n",
       "    }\n",
       "\n",
       "    .dataframe tbody tr th {\n",
       "        vertical-align: top;\n",
       "    }\n",
       "</style>\n",
       "<table border=\"1\" class=\"dataframe\">\n",
       "  <thead>\n",
       "    <tr style=\"text-align: right;\">\n",
       "      <th></th>\n",
       "      <th>CCRB Received Year</th>\n",
       "      <th>Contact Reason Desc (condensed)</th>\n",
       "      <th>Number of Records</th>\n",
       "    </tr>\n",
       "  </thead>\n",
       "  <tbody>\n",
       "    <tr>\n",
       "      <th>0</th>\n",
       "      <td>2006</td>\n",
       "      <td>PD Suspected Crime</td>\n",
       "      <td>2901</td>\n",
       "    </tr>\n",
       "    <tr>\n",
       "      <th>1</th>\n",
       "      <td>2007</td>\n",
       "      <td>PD Suspected Crime</td>\n",
       "      <td>3226</td>\n",
       "    </tr>\n",
       "    <tr>\n",
       "      <th>2</th>\n",
       "      <td>2008</td>\n",
       "      <td>PD Suspected Crime</td>\n",
       "      <td>2862</td>\n",
       "    </tr>\n",
       "    <tr>\n",
       "      <th>3</th>\n",
       "      <td>2009</td>\n",
       "      <td>PD Suspected Crime</td>\n",
       "      <td>3150</td>\n",
       "    </tr>\n",
       "    <tr>\n",
       "      <th>4</th>\n",
       "      <td>2010</td>\n",
       "      <td>PD Suspected Crime</td>\n",
       "      <td>2604</td>\n",
       "    </tr>\n",
       "  </tbody>\n",
       "</table>\n",
       "</div>"
      ],
      "text/plain": [
       "   CCRB Received Year Contact Reason Desc (condensed)  Number of Records\n",
       "0                2006              PD Suspected Crime               2901\n",
       "1                2007              PD Suspected Crime               3226\n",
       "2                2008              PD Suspected Crime               2862\n",
       "3                2009              PD Suspected Crime               3150\n",
       "4                2010              PD Suspected Crime               2604"
      ]
     },
     "execution_count": 183,
     "metadata": {},
     "output_type": "execute_result"
    }
   ],
   "source": [
    "df_reason = pd.read_excel('reasons.xlsx')\n",
    "df_reason.head()"
   ]
  },
  {
   "cell_type": "code",
   "execution_count": 197,
   "metadata": {},
   "outputs": [
    {
     "data": {
      "image/png": "[encoded data removed]",
      "text/plain": [
       "<matplotlib.figure.Figure at 0x116a0fd68>"
      ]
     },
     "metadata": {},
     "output_type": "display_data"
    }
   ],
   "source": [
    "fig, ax = plt.subplots()\n",
    "colors = {\n",
    "    'PD Suspected Crime':'red',\n",
    "    'Other':'purple',\n",
    "    'PD Responds to Reported Crime':'black',\n",
    "    'PD Suspected Violation':'orange',\n",
    "    'C/V Contacted PD':'blue',\n",
    "    'PD Executed Warrant':'yellow',\n",
    "    'C/V at PCT for Property, Information or Complaint':'pink',\n",
    "    'C/V Intervened Due to Incident':'grey',\n",
    "    'EDP Aided Case':'green',\n",
    "    'Parade or Special Event':'lightblue',\n",
    "}\n",
    "for reason, group_df in df_reason.groupby('Contact Reason Desc (condensed)'):\n",
    "    line_color = colors[reason]\n",
    "    group_df.plot(x='CCRB Received Year', y='Number of Records', ax=ax, label=reason, color=line_color)"
   ]
  },
  {
   "cell_type": "code",
   "execution_count": 203,
   "metadata": {},
   "outputs": [
    {
     "data": {
      "text/html": [
       "<div>\n",
       "<style>\n",
       "    .dataframe thead tr:only-child th {\n",
       "        text-align: right;\n",
       "    }\n",
       "\n",
       "    .dataframe thead th {\n",
       "        text-align: left;\n",
       "    }\n",
       "\n",
       "    .dataframe tbody tr th {\n",
       "        vertical-align: top;\n",
       "    }\n",
       "</style>\n",
       "<table border=\"1\" class=\"dataframe\">\n",
       "  <thead>\n",
       "    <tr style=\"text-align: right;\">\n",
       "      <th></th>\n",
       "      <th>Close Year</th>\n",
       "      <th>Date Stamp</th>\n",
       "      <th>Number of Records (copy)</th>\n",
       "      <th>Number of Records</th>\n",
       "      <th>Type Desc</th>\n",
       "      <th>Uniq Id</th>\n",
       "      <th>Allegation Desc</th>\n",
       "    </tr>\n",
       "  </thead>\n",
       "  <tbody>\n",
       "    <tr>\n",
       "      <th>0</th>\n",
       "      <td>2006</td>\n",
       "      <td>5/12/17</td>\n",
       "      <td>1</td>\n",
       "      <td>1</td>\n",
       "      <td>Abuse of Authority</td>\n",
       "      <td>305</td>\n",
       "      <td>Frisk</td>\n",
       "    </tr>\n",
       "    <tr>\n",
       "      <th>1</th>\n",
       "      <td>2006</td>\n",
       "      <td>5/12/17</td>\n",
       "      <td>1</td>\n",
       "      <td>1</td>\n",
       "      <td>Abuse of Authority</td>\n",
       "      <td>395</td>\n",
       "      <td>Frisk</td>\n",
       "    </tr>\n",
       "    <tr>\n",
       "      <th>2</th>\n",
       "      <td>2006</td>\n",
       "      <td>5/12/17</td>\n",
       "      <td>1</td>\n",
       "      <td>1</td>\n",
       "      <td>Abuse of Authority</td>\n",
       "      <td>396</td>\n",
       "      <td>Frisk</td>\n",
       "    </tr>\n",
       "    <tr>\n",
       "      <th>3</th>\n",
       "      <td>2006</td>\n",
       "      <td>5/12/17</td>\n",
       "      <td>1</td>\n",
       "      <td>1</td>\n",
       "      <td>Abuse of Authority</td>\n",
       "      <td>1215</td>\n",
       "      <td>Frisk</td>\n",
       "    </tr>\n",
       "    <tr>\n",
       "      <th>4</th>\n",
       "      <td>2006</td>\n",
       "      <td>5/12/17</td>\n",
       "      <td>1</td>\n",
       "      <td>1</td>\n",
       "      <td>Abuse of Authority</td>\n",
       "      <td>1671</td>\n",
       "      <td>Frisk</td>\n",
       "    </tr>\n",
       "  </tbody>\n",
       "</table>\n",
       "</div>"
      ],
      "text/plain": [
       "   Close Year Date Stamp  Number of Records (copy)  Number of Records  \\\n",
       "0        2006    5/12/17                         1                  1   \n",
       "1        2006    5/12/17                         1                  1   \n",
       "2        2006    5/12/17                         1                  1   \n",
       "3        2006    5/12/17                         1                  1   \n",
       "4        2006    5/12/17                         1                  1   \n",
       "\n",
       "            Type Desc  Uniq Id Allegation Desc  \n",
       "0  Abuse of Authority      305           Frisk  \n",
       "1  Abuse of Authority      395           Frisk  \n",
       "2  Abuse of Authority      396           Frisk  \n",
       "3  Abuse of Authority     1215           Frisk  \n",
       "4  Abuse of Authority     1671           Frisk  "
      ]
     },
     "execution_count": 203,
     "metadata": {},
     "output_type": "execute_result"
    }
   ],
   "source": [
    "df_type = pd.read_csv('FADO_type_Legend_data.csv')\n",
    "df_type.head()"
   ]
  },
  {
   "cell_type": "code",
   "execution_count": 205,
   "metadata": {},
   "outputs": [
    {
     "data": {
      "text/plain": [
       "Abuse of Authority    2225\n",
       "Discourtesy            886\n",
       "Force                  266\n",
       "Offensive Language     114\n",
       "Name: Type Desc, dtype: int64"
      ]
     },
     "execution_count": 205,
     "metadata": {},
     "output_type": "execute_result"
    }
   ],
   "source": [
    "df_type['Type Desc'].value_counts()"
   ]
  },
  {
   "cell_type": "code",
   "execution_count": 213,
   "metadata": {},
   "outputs": [
    {
     "data": {
      "text/plain": [
       "Threat of arrest                          398\n",
       "Stop                                      360\n",
       "Refusal to provide name/shield number     337\n",
       "Search (of person)                        234\n",
       "Frisk                                     187\n",
       "Vehicle stop                              132\n",
       "Question                                   83\n",
       "Vehicle search                             80\n",
       "Premises entered and/or searched           79\n",
       "Threat of force (verbal or physical)       70\n",
       "Question and/or stop                       60\n",
       "Threat of summons                          58\n",
       "Refusal to process civilian complaint      32\n",
       "Threat to damage/seize property            31\n",
       "Other                                      27\n",
       "Retaliatory summons                        14\n",
       "Property damaged                           14\n",
       "Threat to notify ACS                       10\n",
       "Gun Drawn                                   8\n",
       "Seizure of property                         5\n",
       "Refusal to obtain medical treatment         2\n",
       "Failure to show search warrant              1\n",
       "Improper dissemination of medical info      1\n",
       "Strip-searched                              1\n",
       "Frisk and/or search                         1\n",
       "Name: Allegation Desc, dtype: int64"
      ]
     },
     "execution_count": 213,
     "metadata": {},
     "output_type": "execute_result"
    }
   ],
   "source": [
    "df_type[df_type['Type Desc']=='Abuse of Authority']['Allegation Desc'].value_counts()"
   ]
  },
  {
   "cell_type": "code",
   "execution_count": 214,
   "metadata": {},
   "outputs": [
    {
     "data": {
      "text/plain": [
       "Word             725\n",
       "Action           114\n",
       "Demeanor/tone     29\n",
       "Gesture           17\n",
       "Other              1\n",
       "Name: Allegation Desc, dtype: int64"
      ]
     },
     "execution_count": 214,
     "metadata": {},
     "output_type": "execute_result"
    }
   ],
   "source": [
    "df_type[df_type['Type Desc']=='Discourtesy']['Allegation Desc'].value_counts()"
   ]
  },
  {
   "cell_type": "code",
   "execution_count": 215,
   "metadata": {},
   "outputs": [
    {
     "data": {
      "text/plain": [
       "Physical force                           240\n",
       "Gun Pointed                               10\n",
       "Hit against inanimate object               6\n",
       "Other                                      3\n",
       "Vehicle                                    2\n",
       "Handcuffs too tight                        2\n",
       "Other blunt instrument as a club           1\n",
       "Nightstick as club (incl asp & baton)      1\n",
       "Chokehold                                  1\n",
       "Name: Allegation Desc, dtype: int64"
      ]
     },
     "execution_count": 215,
     "metadata": {},
     "output_type": "execute_result"
    }
   ],
   "source": [
    "df_type[df_type['Type Desc']=='Force']['Allegation Desc'].value_counts()"
   ]
  },
  {
   "cell_type": "code",
   "execution_count": 216,
   "metadata": {},
   "outputs": [
    {
     "data": {
      "text/plain": [
       "Race                   49\n",
       "Ethnicity              39\n",
       "Gender                  9\n",
       "Religion                6\n",
       "Other                   6\n",
       "Sexual orientation      4\n",
       "Physical disability     1\n",
       "Name: Allegation Desc, dtype: int64"
      ]
     },
     "execution_count": 216,
     "metadata": {},
     "output_type": "execute_result"
    }
   ],
   "source": [
    "df_type[df_type['Type Desc']=='Offensive Language']['Allegation Desc'].value_counts()"
   ]
  },
  {
   "cell_type": "code",
   "execution_count": null,
   "metadata": {
    "collapsed": true
   },
   "outputs": [],
   "source": []
  },
  {
   "cell_type": "code",
   "execution_count": null,
   "metadata": {
    "collapsed": true
   },
   "outputs": [],
   "source": []
  },
  {
   "cell_type": "code",
   "execution_count": null,
   "metadata": {
    "collapsed": true
   },
   "outputs": [],
   "source": []
  },
  {
   "cell_type": "code",
   "execution_count": null,
   "metadata": {
    "collapsed": true
   },
   "outputs": [],
   "source": []
  },
  {
   "cell_type": "code",
   "execution_count": null,
   "metadata": {
    "collapsed": true
   },
   "outputs": [],
   "source": [
    "df[df['Location'] == 'Brooklyn, NY']"
   ]
  },
  {
   "cell_type": "code",
   "execution_count": 204,
   "metadata": {},
   "outputs": [
    {
     "data": {
      "text/plain": [
       "Word                                      725\n",
       "Threat of arrest                          398\n",
       "Stop                                      360\n",
       "Refusal to provide name/shield number     337\n",
       "Physical force                            240\n",
       "Search (of person)                        234\n",
       "Frisk                                     187\n",
       "Vehicle stop                              132\n",
       "Action                                    114\n",
       "Question                                   83\n",
       "Vehicle search                             80\n",
       "Premises entered and/or searched           79\n",
       "Threat of force (verbal or physical)       70\n",
       "Question and/or stop                       60\n",
       "Threat of summons                          58\n",
       "Race                                       49\n",
       "Ethnicity                                  39\n",
       "Other                                      37\n",
       "Refusal to process civilian complaint      32\n",
       "Threat to damage/seize property            31\n",
       "Demeanor/tone                              29\n",
       "Gesture                                    17\n",
       "Retaliatory summons                        14\n",
       "Property damaged                           14\n",
       "Gun Pointed                                10\n",
       "Threat to notify ACS                       10\n",
       "Gender                                      9\n",
       "Gun Drawn                                   8\n",
       "Religion                                    6\n",
       "Hit against inanimate object                6\n",
       "Seizure of property                         5\n",
       "Sexual orientation                          4\n",
       "Vehicle                                     2\n",
       "Refusal to obtain medical treatment         2\n",
       "Handcuffs too tight                         2\n",
       "Failure to show search warrant              1\n",
       "Chokehold                                   1\n",
       "Nightstick as club (incl asp & baton)       1\n",
       "Frisk and/or search                         1\n",
       "Physical disability                         1\n",
       "Improper dissemination of medical info      1\n",
       "Strip-searched                              1\n",
       "Other blunt instrument as a club            1\n",
       "Name: Allegation Desc, dtype: int64"
      ]
     },
     "execution_count": 204,
     "metadata": {},
     "output_type": "execute_result"
    }
   ],
   "source": [
    "df_type['Allegation Desc'].value_counts()"
   ]
  },
  {
   "cell_type": "code",
   "execution_count": null,
   "metadata": {
    "collapsed": true
   },
   "outputs": [],
   "source": []
  },
  {
   "cell_type": "code",
   "execution_count": null,
   "metadata": {
    "collapsed": true
   },
   "outputs": [],
   "source": []
  },
  {
   "cell_type": "code",
   "execution_count": null,
   "metadata": {
    "collapsed": true
   },
   "outputs": [],
   "source": []
  },
  {
   "cell_type": "code",
   "execution_count": 150,
   "metadata": {},
   "outputs": [
    {
     "data": {
      "text/html": [
       "<div>\n",
       "<style>\n",
       "    .dataframe thead tr:only-child th {\n",
       "        text-align: right;\n",
       "    }\n",
       "\n",
       "    .dataframe thead th {\n",
       "        text-align: left;\n",
       "    }\n",
       "\n",
       "    .dataframe tbody tr th {\n",
       "        vertical-align: top;\n",
       "    }\n",
       "</style>\n",
       "<table border=\"1\" class=\"dataframe\">\n",
       "  <thead>\n",
       "    <tr style=\"text-align: right;\">\n",
       "      <th></th>\n",
       "      <th>CCRB Received Year</th>\n",
       "      <th>Date Stamp</th>\n",
       "      <th>Incident Day</th>\n",
       "      <th>Incident Hour</th>\n",
       "      <th>Number of Records</th>\n",
       "      <th>Uniq Id</th>\n",
       "    </tr>\n",
       "  </thead>\n",
       "  <tbody>\n",
       "    <tr>\n",
       "      <th>0</th>\n",
       "      <td>2006</td>\n",
       "      <td>5/12/17</td>\n",
       "      <td>Friday</td>\n",
       "      <td>13</td>\n",
       "      <td>1</td>\n",
       "      <td>18</td>\n",
       "    </tr>\n",
       "    <tr>\n",
       "      <th>1</th>\n",
       "      <td>2006</td>\n",
       "      <td>5/12/17</td>\n",
       "      <td>Friday</td>\n",
       "      <td>3</td>\n",
       "      <td>1</td>\n",
       "      <td>19</td>\n",
       "    </tr>\n",
       "    <tr>\n",
       "      <th>2</th>\n",
       "      <td>2006</td>\n",
       "      <td>5/12/17</td>\n",
       "      <td>Friday</td>\n",
       "      <td>11</td>\n",
       "      <td>1</td>\n",
       "      <td>22</td>\n",
       "    </tr>\n",
       "    <tr>\n",
       "      <th>3</th>\n",
       "      <td>2006</td>\n",
       "      <td>5/12/17</td>\n",
       "      <td>Friday</td>\n",
       "      <td>17</td>\n",
       "      <td>1</td>\n",
       "      <td>23</td>\n",
       "    </tr>\n",
       "    <tr>\n",
       "      <th>4</th>\n",
       "      <td>2006</td>\n",
       "      <td>5/12/17</td>\n",
       "      <td>Friday</td>\n",
       "      <td>14</td>\n",
       "      <td>1</td>\n",
       "      <td>24</td>\n",
       "    </tr>\n",
       "  </tbody>\n",
       "</table>\n",
       "</div>"
      ],
      "text/plain": [
       "   CCRB Received Year Date Stamp Incident Day  Incident Hour  \\\n",
       "0                2006    5/12/17       Friday             13   \n",
       "1                2006    5/12/17       Friday              3   \n",
       "2                2006    5/12/17       Friday             11   \n",
       "3                2006    5/12/17       Friday             17   \n",
       "4                2006    5/12/17       Friday             14   \n",
       "\n",
       "   Number of Records  Uniq Id  \n",
       "0                  1       18  \n",
       "1                  1       19  \n",
       "2                  1       22  \n",
       "3                  1       23  \n",
       "4                  1       24  "
      ]
     },
     "execution_count": 150,
     "metadata": {},
     "output_type": "execute_result"
    }
   ],
   "source": [
    "df_hour = pd.read_csv('day_hour.csv')\n",
    "df_hour.head()"
   ]
  },
  {
   "cell_type": "code",
   "execution_count": 151,
   "metadata": {},
   "outputs": [
    {
     "data": {
      "text/plain": [
       "Wednesday    10950\n",
       "Friday       10816\n",
       "Thursday     10376\n",
       "Saturday     10054\n",
       "Tuesday       9847\n",
       "Sunday        7874\n",
       "Monday        7067\n",
       "Name: Incident Day, dtype: int64"
      ]
     },
     "execution_count": 151,
     "metadata": {},
     "output_type": "execute_result"
    }
   ],
   "source": [
    "df_hour['Incident Day'].value_counts()"
   ]
  },
  {
   "cell_type": "code",
   "execution_count": 152,
   "metadata": {
    "scrolled": true
   },
   "outputs": [
    {
     "data": {
      "text/plain": [
       "20    4169\n",
       "19    4025\n",
       "21    3982\n",
       "22    3951\n",
       "23    3888\n",
       "18    3786\n",
       "0     3773\n",
       "16    3698\n",
       "17    3599\n",
       "15    3429\n",
       "1     3416\n",
       "14    3130\n",
       "13    2638\n",
       "2     2383\n",
       "12    2360\n",
       "11    2198\n",
       "3     1938\n",
       "10    1895\n",
       "9     1819\n",
       "4     1599\n",
       "8     1545\n",
       "6     1507\n",
       "5     1148\n",
       "7     1108\n",
       "Name: Incident Hour, dtype: int64"
      ]
     },
     "execution_count": 152,
     "metadata": {},
     "output_type": "execute_result"
    }
   ],
   "source": [
    "df_hour['Incident Hour'].value_counts()"
   ]
  },
  {
   "cell_type": "code",
   "execution_count": 91,
   "metadata": {},
   "outputs": [
    {
     "data": {
      "text/plain": [
       "(654, 6)"
      ]
     },
     "execution_count": 91,
     "metadata": {},
     "output_type": "execute_result"
    }
   ],
   "source": [
    "df_hour[(df_hour['Incident Day']=='Sunday') & (df_hour['Incident Hour']==0)].shape"
   ]
  },
  {
   "cell_type": "code",
   "execution_count": 129,
   "metadata": {
    "collapsed": true
   },
   "outputs": [],
   "source": [
    "#df_hour[(df_hour['Incident Day'].isin(['Sunday', 'Monday', 'Tuesday', 'Wednesday', 'Thursday', 'Friday', 'Saturday'])) & (df_hour['Incident Hour']==1)].shape"
   ]
  },
  {
   "cell_type": "code",
   "execution_count": 130,
   "metadata": {
    "collapsed": true
   },
   "outputs": [],
   "source": [
    "#df_hour[(df_hour['Incident Day']=='Sunday') & (df_hour['Incident Hour'].isin([0, 1, 2, 3, 4, 5, 6, 7, 8, 9, 10, 11, 12, 13, 14, 15, 16, 17, 18, 19, 20, 21, 22, 23]))]"
   ]
  },
  {
   "cell_type": "code",
   "execution_count": null,
   "metadata": {
    "collapsed": true
   },
   "outputs": [],
   "source": []
  },
  {
   "cell_type": "code",
   "execution_count": null,
   "metadata": {
    "collapsed": true
   },
   "outputs": [],
   "source": []
  },
  {
   "cell_type": "code",
   "execution_count": null,
   "metadata": {
    "collapsed": true
   },
   "outputs": [],
   "source": []
  },
  {
   "cell_type": "code",
   "execution_count": null,
   "metadata": {
    "collapsed": true
   },
   "outputs": [],
   "source": []
  },
  {
   "cell_type": "code",
   "execution_count": null,
   "metadata": {
    "collapsed": true
   },
   "outputs": [],
   "source": []
  },
  {
   "cell_type": "code",
   "execution_count": null,
   "metadata": {
    "collapsed": true
   },
   "outputs": [],
   "source": []
  }
 ],
 "metadata": {
  "kernelspec": {
   "display_name": "Python 3",
   "language": "python",
   "name": "python3"
  },
  "language_info": {
   "codemirror_mode": {
    "name": "ipython",
    "version": 3
   },
   "file_extension": ".py",
   "mimetype": "text/x-python",
   "name": "python",
   "nbconvert_exporter": "python",
   "pygments_lexer": "ipython3",
   "version": "3.6.1"
  }
 },
 "nbformat": 4,
 "nbformat_minor": 2
}
